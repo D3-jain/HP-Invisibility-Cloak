{
 "cells": [
  {
   "cell_type": "markdown",
   "metadata": {},
   "source": [
    "## Importing Packages "
   ]
  },
  {
   "cell_type": "code",
   "execution_count": 1,
   "metadata": {},
   "outputs": [],
   "source": [
    "import cv2\n",
    "import time\n",
    "import numpy as np"
   ]
  },
  {
   "cell_type": "markdown",
   "metadata": {},
   "source": [
    "## Creating output file"
   ]
  },
  {
   "cell_type": "code",
   "execution_count": 12,
   "metadata": {},
   "outputs": [],
   "source": [
    "fourcc= cv2.VideoWriter_fourcc(*'DIVX')\n",
    "out=cv2.VideoWriter('harry_potter.avi',fourcc,20.0, (640,480))"
   ]
  },
  {
   "cell_type": "markdown",
   "metadata": {},
   "source": [
    "## Recording Background and Pass it over the Cloak Area"
   ]
  },
  {
   "cell_type": "code",
   "execution_count": 13,
   "metadata": {},
   "outputs": [],
   "source": [
    "cap=cv2.VideoCapture(0)\n",
    "time.sleep(5)                                                                  #Waiting for the webcam to open \n",
    "count=0\n",
    "background=0\n",
    "\n",
    "#Recording the background Area for the range of 60\n",
    "for i in range(60):\n",
    "    ret,background=cap.read()\n",
    "background=np.flip(background, axis=1)                                         #Obtain the mirror image by flipping pixel values of the image\n",
    "\n",
    "\n",
    "#Implementing Invisible Cloak by Passing the background portion over the Area covered by cloak for every frame.\n",
    "while (cap.isOpened()):\n",
    "    ret,img=cap.read()\n",
    "    if not ret: #Case when webcam does not return any frame \n",
    "        break\n",
    "    count+=1\n",
    "    img=np.flip(img,axis=1)\n",
    "    hsv=cv2.cvtColor(img, cv2.COLOR_BGR2HSV)                                   #Conversion of image type to HSV to detect the red color of our cloak\n",
    "    \n",
    "    #Lower range for Red Mask\n",
    "    lower_red=np.array([0,120,70])\n",
    "    upper_red=np.array([9,255,255])\n",
    "    mask1=cv2.inRange(hsv,lower_red,upper_red)\n",
    "    \n",
    "    #Upper range for Red Mask\n",
    "    lower_red=np.array([171,120,70])\n",
    "    upper_red=np.array([180,255,255])\n",
    "    mask2=cv2.inRange(hsv,lower_red,upper_red)\n",
    "    \n",
    "    #Final Mask Region\n",
    "    mask1=mask1+mask2\n",
    "    \n",
    "    #Removing Noise and Smoothening the Masked Area\n",
    "    mask1=cv2.morphologyEx(mask1, cv2.MORPH_OPEN,np.ones((3,3),np.uint8))      #Erosion Followed by Dilation \n",
    "    mask1=cv2.morphologyEx(mask1, cv2.MORPH_DILATE,np.ones((3,3),np.uint8))    #Dilation\n",
    "\n",
    "    mask2=cv2.bitwise_not(mask1)                                               #Inverted mask of Mask 1\n",
    "    res1=cv2.bitwise_and(img,img,mask=mask2)                                   #Applying the total frame over the masked region by bitwise_and so that unmasked area does not contain anything from the current frame.\n",
    "    res2=cv2.bitwise_and(background,background,mask=mask1)                     #Similar to previous step but in this case we pass the background we recorded before in the masked area and unmasked area remains unaffected.\n",
    "    \n",
    "    finalOutput=cv2.addWeighted(res1,1,res2,1,0)                               #It blends both Image together, and since both res1 and res2 didn't have anything in unmasked region they add up together without affecting each other.\n",
    "    out.write(finalOutput)                                                     #Writing final Output produced in the same directory\n",
    "    cv2.imshow(\"magic\",finalOutput) \n",
    "    if cv2.waitKey(1) & 0xFF == ord('q'):                                      #Wait for 1ms for user response and if he enters \"q\" in his/her keyboard, the loop is terminated and webcam window closes.\n",
    "        break\n",
    "    \n",
    "cap.release()\n",
    "out.release()\n",
    "cv2.destroyAllWindows()                                                        #Destroying all the windows and releasing the cv2 objects created."
   ]
  },
  {
   "cell_type": "code",
   "execution_count": null,
   "metadata": {},
   "outputs": [],
   "source": []
  }
 ],
 "metadata": {
  "kernelspec": {
   "display_name": "Python 3",
   "language": "python",
   "name": "python3"
  },
  "language_info": {
   "codemirror_mode": {
    "name": "ipython",
    "version": 3
   },
   "file_extension": ".py",
   "mimetype": "text/x-python",
   "name": "python",
   "nbconvert_exporter": "python",
   "pygments_lexer": "ipython3",
   "version": "3.8.3"
  }
 },
 "nbformat": 4,
 "nbformat_minor": 4
}
